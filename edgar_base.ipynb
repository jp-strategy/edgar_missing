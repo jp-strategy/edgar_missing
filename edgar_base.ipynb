{
  "nbformat": 4,
  "nbformat_minor": 0,
  "metadata": {
    "colab": {
      "provenance": [],
      "authorship_tag": "ABX9TyNM1Q+v/g/cwa8lKO3A8YRS",
      "include_colab_link": true
    },
    "kernelspec": {
      "name": "python3",
      "display_name": "Python 3"
    },
    "language_info": {
      "name": "python"
    }
  },
  "cells": [
    {
      "cell_type": "markdown",
      "metadata": {
        "id": "view-in-github",
        "colab_type": "text"
      },
      "source": [
        "<a href=\"https://colab.research.google.com/github/jp-strategy/edgar_missing/blob/main/edgar_base.ipynb\" target=\"_parent\"><img src=\"https://colab.research.google.com/assets/colab-badge.svg\" alt=\"Open In Colab\"/></a>"
      ]
    },
    {
      "cell_type": "code",
      "execution_count": null,
      "metadata": {
        "id": "NXQsaGr2C8o-"
      },
      "outputs": [],
      "source": [
        "import time\n",
        "from bs4 import BeautifulSoup\n",
        "import requests\n",
        "\n",
        "response = requests.get(\"https://en.wikipedia.org/wiki/List_of_S%26P_600_companies\")\n",
        "soup = BeautifulSoup(response.content, 'html.parser')\n",
        "\n",
        "# Find the first table on the page\n",
        "table = soup.find_all('table')[0]\n",
        "\n",
        "# Extract the table rows\n",
        "rows = table.find_all('tr')\n",
        "ciks = []\n",
        "\n",
        "for row in rows:\n",
        "    cells = row.find_all('td')\n",
        "    if cells:\n",
        "        cik_cell = cells[6]\n",
        "        cik = cik_cell.text.strip()\n",
        "        ciks.append(cik)"
      ]
    },
    {
      "cell_type": "code",
      "source": [
        "!pip install secedgar\n",
        "!pip install nest_asyncio\n",
        "import nest_asyncio\n",
        "nest_asyncio.apply()"
      ],
      "metadata": {
        "id": "wQ5xY7GODFJx"
      },
      "execution_count": null,
      "outputs": []
    },
    {
      "cell_type": "code",
      "source": [
        "from secedgar import filings, FilingType\n",
        "def fetch_filings_sync():\n",
        "  filings8 = filings(cik_lookup=ciks,\n",
        "                      filing_type=FilingType.FILING_8K,\n",
        "                      user_agent=\"gburdin@escp.eu\",\n",
        "                      start_date=\"20040101\")\n",
        "  filings8.save('/content/drive/MyDrive/output_8k')\n",
        "fetch_filings_sync()"
      ],
      "metadata": {
        "id": "Pw40-S9qDMum"
      },
      "execution_count": null,
      "outputs": []
    }
  ]
}